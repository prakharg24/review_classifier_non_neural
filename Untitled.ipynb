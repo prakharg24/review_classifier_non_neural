{
 "cells": [
  {
   "cell_type": "code",
   "execution_count": 1,
   "metadata": {},
   "outputs": [
    {
     "name": "stdout",
     "output_type": "stream",
     "text": [
      "ll\n",
      "100000\n",
      "200000\n",
      "300000\n",
      "400000\n",
      "500000\n",
      "600000\n",
      "700000\n",
      "800000\n",
      "gg\n"
     ]
    }
   ],
   "source": [
    "import json\n",
    "import codecs\n",
    "data = []\n",
    "print(\"ll\")\n",
    "it = 0\n",
    "with codecs.open('audio_train.json','rU','utf-8') as f:\n",
    "\tfor line in f:\n",
    "\t\tit = it + 1\n",
    "\t\tdata.append(json.loads(line))\n",
    "\t\tif(it%100000==0):\n",
    "\t\t\tprint(it)\n",
    "\n",
    "print(\"gg\")"
   ]
  },
  {
   "cell_type": "code",
   "execution_count": 2,
   "metadata": {},
   "outputs": [
    {
     "name": "stdout",
     "output_type": "stream",
     "text": [
      "ll\n",
      "100000\n",
      "gg\n"
     ]
    }
   ],
   "source": [
    "test_data = []\n",
    "print(\"ll\")\n",
    "test_it = 0\n",
    "with codecs.open('audio_dev.json','rU','utf-8') as f:\n",
    "\tfor line in f:\n",
    "\t\ttest_it = test_it + 1\n",
    "\t\ttest_data.append(json.loads(line))\n",
    "\t\tif(test_it%100000==0):\n",
    "\t\t\tprint(test_it)\n",
    "\n",
    "print(\"gg\")"
   ]
  },
  {
   "cell_type": "code",
   "execution_count": 4,
   "metadata": {},
   "outputs": [],
   "source": [
    "def getclass(a):\n",
    "    if a>3:\n",
    "        return 2\n",
    "    elif a<3:\n",
    "        return 0\n",
    "    else:\n",
    "        return 1"
   ]
  },
  {
   "cell_type": "code",
   "execution_count": 163,
   "metadata": {},
   "outputs": [
    {
     "name": "stdout",
     "output_type": "stream",
     "text": [
      "over\n"
     ]
    }
   ],
   "source": [
    "training_sentences = []\n",
    "training_labels = []\n",
    "i = 0\n",
    "start = 1000\n",
    "while(i<start):\n",
    "    i = i+1\n",
    "    if(i%4==0):\n",
    "        i = i+1\n",
    "    sent = data[i]['summary']\n",
    "    cls = getclass(data[i]['overall'])\n",
    "    training_sentences.append(sent)\n",
    "    training_labels.append(cls)    \n",
    "print(\"over\")"
   ]
  },
  {
   "cell_type": "code",
   "execution_count": 164,
   "metadata": {},
   "outputs": [],
   "source": [
    "test_sentences = []\n",
    "test_labels = []\n",
    "arr = [0, 0, 0]\n",
    "while(i<it):\n",
    "    i = i+1\n",
    "    sent = data[i]['summary']\n",
    "    cls = getclass(data[i]['overall'])\n",
    "    if arr[cls]<1000:\n",
    "        test_sentences.append(sent)\n",
    "        test_labels.append(cls)\n",
    "        arr[cls] += 1\n",
    "    if arr[0]==1000 and arr[1]==1000 and arr[2]==1000:\n",
    "        break"
   ]
  },
  {
   "cell_type": "code",
   "execution_count": 165,
   "metadata": {},
   "outputs": [],
   "source": [
    "from sklearn.feature_extraction.text import CountVectorizer\n",
    "vect = CountVectorizer()\n",
    "\n",
    "from sklearn.feature_extraction.text import TfidfVectorizer\n",
    "vectorizer = TfidfVectorizer()\n",
    "\n",
    "train_matrix = vect.fit_transform(training_sentences).toarray()\n",
    "test_matrix = vect.transform(test_sentences).toarray()"
   ]
  },
  {
   "cell_type": "code",
   "execution_count": 166,
   "metadata": {},
   "outputs": [
    {
     "name": "stdout",
     "output_type": "stream",
     "text": [
      "Wall time: 112 ms\n"
     ]
    },
    {
     "data": {
      "text/plain": [
       "MultinomialNB(alpha=1.0, class_prior=None, fit_prior=True)"
      ]
     },
     "execution_count": 166,
     "metadata": {},
     "output_type": "execute_result"
    }
   ],
   "source": [
    "from sklearn.naive_bayes import MultinomialNB\n",
    "import numpy as np\n",
    "nb = MultinomialNB()\n",
    "%time nb.fit(train_matrix, training_labels)"
   ]
  },
  {
   "cell_type": "code",
   "execution_count": 167,
   "metadata": {},
   "outputs": [
    {
     "data": {
      "text/plain": [
       "array([[581, 295, 232],\n",
       "       [250, 475, 223],\n",
       "       [169, 230, 545]], dtype=int64)"
      ]
     },
     "execution_count": 167,
     "metadata": {},
     "output_type": "execute_result"
    }
   ],
   "source": [
    "y_pred_class = nb.predict(test_matrix)\n",
    "from sklearn import metrics\n",
    "metrics.confusion_matrix(y_pred_class, test_labels)"
   ]
  },
  {
   "cell_type": "code",
   "execution_count": 41,
   "metadata": {},
   "outputs": [],
   "source": [
    "import numpy as np"
   ]
  },
  {
   "cell_type": "code",
   "execution_count": 42,
   "metadata": {},
   "outputs": [],
   "source": [
    "confusion = np.zeros((3, 3))"
   ]
  },
  {
   "cell_type": "code",
   "execution_count": 43,
   "metadata": {},
   "outputs": [
    {
     "name": "stdout",
     "output_type": "stream",
     "text": [
      "0\n",
      "100\n",
      "200\n",
      "300\n",
      "400\n",
      "500\n"
     ]
    }
   ],
   "source": [
    "for i in range(0, len(test_corpus)):\n",
    "    if(i%100==0):\n",
    "        print(i)\n",
    "    pb_cls = model.prob_classify(test_corpus[i][0])\n",
    "    if pb_cls.prob(pb_cls.max())>0.9:\n",
    "        cls = pb_cls.max()\n",
    "        confusion[cls][test_corpus[i][1]] += 1"
   ]
  },
  {
   "cell_type": "code",
   "execution_count": 44,
   "metadata": {},
   "outputs": [
    {
     "name": "stdout",
     "output_type": "stream",
     "text": [
      "[[145.  77.  91.]\n",
      " [ 29.  73.  31.]\n",
      " [  5.   9.  31.]]\n"
     ]
    }
   ],
   "source": [
    "print(confusion)"
   ]
  },
  {
   "cell_type": "code",
   "execution_count": null,
   "metadata": {},
   "outputs": [],
   "source": []
  }
 ],
 "metadata": {
  "kernelspec": {
   "display_name": "Python 3",
   "language": "python",
   "name": "python3"
  },
  "language_info": {
   "codemirror_mode": {
    "name": "ipython",
    "version": 3
   },
   "file_extension": ".py",
   "mimetype": "text/x-python",
   "name": "python",
   "nbconvert_exporter": "python",
   "pygments_lexer": "ipython3",
   "version": "3.6.4"
  }
 },
 "nbformat": 4,
 "nbformat_minor": 2
}
